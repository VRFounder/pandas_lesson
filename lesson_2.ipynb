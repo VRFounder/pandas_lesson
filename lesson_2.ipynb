{
 "cells": [
  {
   "cell_type": "code",
   "execution_count": 50,
   "id": "initial_id",
   "metadata": {
    "collapsed": true,
    "ExecuteTime": {
     "end_time": "2024-03-07T06:58:45.614202200Z",
     "start_time": "2024-03-07T06:58:45.577790800Z"
    }
   },
   "outputs": [],
   "source": [
    "import pandas as pd"
   ]
  },
  {
   "cell_type": "code",
   "execution_count": 51,
   "outputs": [],
   "source": [
    "import numpy as np\n",
    "from numpy.random import randn"
   ],
   "metadata": {
    "collapsed": false,
    "ExecuteTime": {
     "end_time": "2024-03-07T06:58:46.534489700Z",
     "start_time": "2024-03-07T06:58:46.472655Z"
    }
   },
   "id": "6aad752ef3e6affe"
  },
  {
   "cell_type": "code",
   "execution_count": 52,
   "outputs": [],
   "source": [
    "np.random.seed(101)"
   ],
   "metadata": {
    "collapsed": false,
    "ExecuteTime": {
     "end_time": "2024-03-07T06:58:47.499914300Z",
     "start_time": "2024-03-07T06:58:47.418268200Z"
    }
   },
   "id": "4e9846b7602ea81e"
  },
  {
   "cell_type": "code",
   "execution_count": 53,
   "outputs": [],
   "source": [
    "df = pd.DataFrame(randn(5,4),['A', 'B', 'C', 'D', 'E'], ['W', 'X', 'Y', 'Z'])"
   ],
   "metadata": {
    "collapsed": false,
    "ExecuteTime": {
     "end_time": "2024-03-07T06:58:48.379828700Z",
     "start_time": "2024-03-07T06:58:48.349909200Z"
    }
   },
   "id": "6e59b66fc26ac782"
  },
  {
   "cell_type": "code",
   "execution_count": 54,
   "outputs": [
    {
     "data": {
      "text/plain": "          W         X         Y         Z\nA  2.706850  0.628133  0.907969  0.503826\nB  0.651118 -0.319318 -0.848077  0.605965\nC -2.018168  0.740122  0.528813 -0.589001\nD  0.188695 -0.758872 -0.933237  0.955057\nE  0.190794  1.978757  2.605967  0.683509",
      "text/html": "<div>\n<style scoped>\n    .dataframe tbody tr th:only-of-type {\n        vertical-align: middle;\n    }\n\n    .dataframe tbody tr th {\n        vertical-align: top;\n    }\n\n    .dataframe thead th {\n        text-align: right;\n    }\n</style>\n<table border=\"1\" class=\"dataframe\">\n  <thead>\n    <tr style=\"text-align: right;\">\n      <th></th>\n      <th>W</th>\n      <th>X</th>\n      <th>Y</th>\n      <th>Z</th>\n    </tr>\n  </thead>\n  <tbody>\n    <tr>\n      <th>A</th>\n      <td>2.706850</td>\n      <td>0.628133</td>\n      <td>0.907969</td>\n      <td>0.503826</td>\n    </tr>\n    <tr>\n      <th>B</th>\n      <td>0.651118</td>\n      <td>-0.319318</td>\n      <td>-0.848077</td>\n      <td>0.605965</td>\n    </tr>\n    <tr>\n      <th>C</th>\n      <td>-2.018168</td>\n      <td>0.740122</td>\n      <td>0.528813</td>\n      <td>-0.589001</td>\n    </tr>\n    <tr>\n      <th>D</th>\n      <td>0.188695</td>\n      <td>-0.758872</td>\n      <td>-0.933237</td>\n      <td>0.955057</td>\n    </tr>\n    <tr>\n      <th>E</th>\n      <td>0.190794</td>\n      <td>1.978757</td>\n      <td>2.605967</td>\n      <td>0.683509</td>\n    </tr>\n  </tbody>\n</table>\n</div>"
     },
     "execution_count": 54,
     "metadata": {},
     "output_type": "execute_result"
    }
   ],
   "source": [
    "df"
   ],
   "metadata": {
    "collapsed": false,
    "ExecuteTime": {
     "end_time": "2024-03-07T06:58:49.947195600Z",
     "start_time": "2024-03-07T06:58:49.889831900Z"
    }
   },
   "id": "4031defe1ec8f741"
  },
  {
   "cell_type": "code",
   "execution_count": 35,
   "outputs": [
    {
     "data": {
      "text/plain": "A    2.706850\nB    0.651118\nC   -2.018168\nD    0.188695\nE    0.190794\nName: W, dtype: float64"
     },
     "execution_count": 35,
     "metadata": {},
     "output_type": "execute_result"
    }
   ],
   "source": [
    "df['W']"
   ],
   "metadata": {
    "collapsed": false,
    "ExecuteTime": {
     "end_time": "2024-03-07T04:16:26.674260Z",
     "start_time": "2024-03-07T04:16:26.593161600Z"
    }
   },
   "id": "fc905af14bdcac28"
  },
  {
   "cell_type": "code",
   "execution_count": 36,
   "outputs": [
    {
     "data": {
      "text/plain": "A    2.706850\nB    0.651118\nC   -2.018168\nD    0.188695\nE    0.190794\nName: W, dtype: float64"
     },
     "execution_count": 36,
     "metadata": {},
     "output_type": "execute_result"
    }
   ],
   "source": [
    "df.W # NOT RECOMMENDED"
   ],
   "metadata": {
    "collapsed": false,
    "ExecuteTime": {
     "end_time": "2024-03-07T04:16:27.082598Z",
     "start_time": "2024-03-07T04:16:27.062587700Z"
    }
   },
   "id": "68fad8df0a99d1ab"
  },
  {
   "cell_type": "code",
   "execution_count": 37,
   "outputs": [
    {
     "data": {
      "text/plain": "          W         Z\nA  2.706850  0.503826\nB  0.651118  0.605965\nC -2.018168 -0.589001\nD  0.188695  0.955057\nE  0.190794  0.683509",
      "text/html": "<div>\n<style scoped>\n    .dataframe tbody tr th:only-of-type {\n        vertical-align: middle;\n    }\n\n    .dataframe tbody tr th {\n        vertical-align: top;\n    }\n\n    .dataframe thead th {\n        text-align: right;\n    }\n</style>\n<table border=\"1\" class=\"dataframe\">\n  <thead>\n    <tr style=\"text-align: right;\">\n      <th></th>\n      <th>W</th>\n      <th>Z</th>\n    </tr>\n  </thead>\n  <tbody>\n    <tr>\n      <th>A</th>\n      <td>2.706850</td>\n      <td>0.503826</td>\n    </tr>\n    <tr>\n      <th>B</th>\n      <td>0.651118</td>\n      <td>0.605965</td>\n    </tr>\n    <tr>\n      <th>C</th>\n      <td>-2.018168</td>\n      <td>-0.589001</td>\n    </tr>\n    <tr>\n      <th>D</th>\n      <td>0.188695</td>\n      <td>0.955057</td>\n    </tr>\n    <tr>\n      <th>E</th>\n      <td>0.190794</td>\n      <td>0.683509</td>\n    </tr>\n  </tbody>\n</table>\n</div>"
     },
     "execution_count": 37,
     "metadata": {},
     "output_type": "execute_result"
    }
   ],
   "source": [
    "df[['W','Z']]"
   ],
   "metadata": {
    "collapsed": false,
    "ExecuteTime": {
     "end_time": "2024-03-07T04:16:28.051587100Z",
     "start_time": "2024-03-07T04:16:28.035838400Z"
    }
   },
   "id": "ba71f0f5a511b9a8"
  },
  {
   "cell_type": "code",
   "execution_count": 38,
   "outputs": [],
   "source": [
    "df['new'] = df[\"W\"] + df[\"Y\"]"
   ],
   "metadata": {
    "collapsed": false,
    "ExecuteTime": {
     "end_time": "2024-03-07T04:16:28.958508600Z",
     "start_time": "2024-03-07T04:16:28.934623Z"
    }
   },
   "id": "c594da745812272f"
  },
  {
   "cell_type": "code",
   "execution_count": 39,
   "outputs": [
    {
     "data": {
      "text/plain": "          W         X         Y         Z       new\nA  2.706850  0.628133  0.907969  0.503826  3.614819\nB  0.651118 -0.319318 -0.848077  0.605965 -0.196959\nC -2.018168  0.740122  0.528813 -0.589001 -1.489355\nD  0.188695 -0.758872 -0.933237  0.955057 -0.744542\nE  0.190794  1.978757  2.605967  0.683509  2.796762",
      "text/html": "<div>\n<style scoped>\n    .dataframe tbody tr th:only-of-type {\n        vertical-align: middle;\n    }\n\n    .dataframe tbody tr th {\n        vertical-align: top;\n    }\n\n    .dataframe thead th {\n        text-align: right;\n    }\n</style>\n<table border=\"1\" class=\"dataframe\">\n  <thead>\n    <tr style=\"text-align: right;\">\n      <th></th>\n      <th>W</th>\n      <th>X</th>\n      <th>Y</th>\n      <th>Z</th>\n      <th>new</th>\n    </tr>\n  </thead>\n  <tbody>\n    <tr>\n      <th>A</th>\n      <td>2.706850</td>\n      <td>0.628133</td>\n      <td>0.907969</td>\n      <td>0.503826</td>\n      <td>3.614819</td>\n    </tr>\n    <tr>\n      <th>B</th>\n      <td>0.651118</td>\n      <td>-0.319318</td>\n      <td>-0.848077</td>\n      <td>0.605965</td>\n      <td>-0.196959</td>\n    </tr>\n    <tr>\n      <th>C</th>\n      <td>-2.018168</td>\n      <td>0.740122</td>\n      <td>0.528813</td>\n      <td>-0.589001</td>\n      <td>-1.489355</td>\n    </tr>\n    <tr>\n      <th>D</th>\n      <td>0.188695</td>\n      <td>-0.758872</td>\n      <td>-0.933237</td>\n      <td>0.955057</td>\n      <td>-0.744542</td>\n    </tr>\n    <tr>\n      <th>E</th>\n      <td>0.190794</td>\n      <td>1.978757</td>\n      <td>2.605967</td>\n      <td>0.683509</td>\n      <td>2.796762</td>\n    </tr>\n  </tbody>\n</table>\n</div>"
     },
     "execution_count": 39,
     "metadata": {},
     "output_type": "execute_result"
    }
   ],
   "source": [
    "df"
   ],
   "metadata": {
    "collapsed": false,
    "ExecuteTime": {
     "end_time": "2024-03-07T04:16:29.786636100Z",
     "start_time": "2024-03-07T04:16:29.730428200Z"
    }
   },
   "id": "4ff4883127085692"
  },
  {
   "cell_type": "code",
   "execution_count": 40,
   "outputs": [
    {
     "data": {
      "text/plain": "          W         X         Y         Z\nA  2.706850  0.628133  0.907969  0.503826\nB  0.651118 -0.319318 -0.848077  0.605965\nC -2.018168  0.740122  0.528813 -0.589001\nD  0.188695 -0.758872 -0.933237  0.955057\nE  0.190794  1.978757  2.605967  0.683509",
      "text/html": "<div>\n<style scoped>\n    .dataframe tbody tr th:only-of-type {\n        vertical-align: middle;\n    }\n\n    .dataframe tbody tr th {\n        vertical-align: top;\n    }\n\n    .dataframe thead th {\n        text-align: right;\n    }\n</style>\n<table border=\"1\" class=\"dataframe\">\n  <thead>\n    <tr style=\"text-align: right;\">\n      <th></th>\n      <th>W</th>\n      <th>X</th>\n      <th>Y</th>\n      <th>Z</th>\n    </tr>\n  </thead>\n  <tbody>\n    <tr>\n      <th>A</th>\n      <td>2.706850</td>\n      <td>0.628133</td>\n      <td>0.907969</td>\n      <td>0.503826</td>\n    </tr>\n    <tr>\n      <th>B</th>\n      <td>0.651118</td>\n      <td>-0.319318</td>\n      <td>-0.848077</td>\n      <td>0.605965</td>\n    </tr>\n    <tr>\n      <th>C</th>\n      <td>-2.018168</td>\n      <td>0.740122</td>\n      <td>0.528813</td>\n      <td>-0.589001</td>\n    </tr>\n    <tr>\n      <th>D</th>\n      <td>0.188695</td>\n      <td>-0.758872</td>\n      <td>-0.933237</td>\n      <td>0.955057</td>\n    </tr>\n    <tr>\n      <th>E</th>\n      <td>0.190794</td>\n      <td>1.978757</td>\n      <td>2.605967</td>\n      <td>0.683509</td>\n    </tr>\n  </tbody>\n</table>\n</div>"
     },
     "execution_count": 40,
     "metadata": {},
     "output_type": "execute_result"
    }
   ],
   "source": [
    "df.drop(\"new\", axis=1) # DOES NOT AFFECT TO ORIGINAL DATAFRAME"
   ],
   "metadata": {
    "collapsed": false,
    "ExecuteTime": {
     "end_time": "2024-03-07T04:16:30.968126300Z",
     "start_time": "2024-03-07T04:16:30.922662500Z"
    }
   },
   "id": "987d12fefbe3c803"
  },
  {
   "cell_type": "code",
   "execution_count": 41,
   "outputs": [
    {
     "data": {
      "text/plain": "          W         X         Y         Z       new\nA  2.706850  0.628133  0.907969  0.503826  3.614819\nB  0.651118 -0.319318 -0.848077  0.605965 -0.196959\nC -2.018168  0.740122  0.528813 -0.589001 -1.489355\nD  0.188695 -0.758872 -0.933237  0.955057 -0.744542\nE  0.190794  1.978757  2.605967  0.683509  2.796762",
      "text/html": "<div>\n<style scoped>\n    .dataframe tbody tr th:only-of-type {\n        vertical-align: middle;\n    }\n\n    .dataframe tbody tr th {\n        vertical-align: top;\n    }\n\n    .dataframe thead th {\n        text-align: right;\n    }\n</style>\n<table border=\"1\" class=\"dataframe\">\n  <thead>\n    <tr style=\"text-align: right;\">\n      <th></th>\n      <th>W</th>\n      <th>X</th>\n      <th>Y</th>\n      <th>Z</th>\n      <th>new</th>\n    </tr>\n  </thead>\n  <tbody>\n    <tr>\n      <th>A</th>\n      <td>2.706850</td>\n      <td>0.628133</td>\n      <td>0.907969</td>\n      <td>0.503826</td>\n      <td>3.614819</td>\n    </tr>\n    <tr>\n      <th>B</th>\n      <td>0.651118</td>\n      <td>-0.319318</td>\n      <td>-0.848077</td>\n      <td>0.605965</td>\n      <td>-0.196959</td>\n    </tr>\n    <tr>\n      <th>C</th>\n      <td>-2.018168</td>\n      <td>0.740122</td>\n      <td>0.528813</td>\n      <td>-0.589001</td>\n      <td>-1.489355</td>\n    </tr>\n    <tr>\n      <th>D</th>\n      <td>0.188695</td>\n      <td>-0.758872</td>\n      <td>-0.933237</td>\n      <td>0.955057</td>\n      <td>-0.744542</td>\n    </tr>\n    <tr>\n      <th>E</th>\n      <td>0.190794</td>\n      <td>1.978757</td>\n      <td>2.605967</td>\n      <td>0.683509</td>\n      <td>2.796762</td>\n    </tr>\n  </tbody>\n</table>\n</div>"
     },
     "execution_count": 41,
     "metadata": {},
     "output_type": "execute_result"
    }
   ],
   "source": [
    "df"
   ],
   "metadata": {
    "collapsed": false,
    "ExecuteTime": {
     "end_time": "2024-03-07T04:16:32.836463500Z",
     "start_time": "2024-03-07T04:16:32.828926700Z"
    }
   },
   "id": "21c2180339f46bf4"
  },
  {
   "cell_type": "code",
   "execution_count": 42,
   "outputs": [],
   "source": [
    "df.drop('new', axis=1, inplace=True) #DOES AFFECT TO ORIGINAL DATAFRAME"
   ],
   "metadata": {
    "collapsed": false,
    "ExecuteTime": {
     "end_time": "2024-03-07T04:16:33.833763200Z",
     "start_time": "2024-03-07T04:16:33.812203600Z"
    }
   },
   "id": "fcdcc0e44b20202e"
  },
  {
   "cell_type": "code",
   "execution_count": 43,
   "outputs": [
    {
     "data": {
      "text/plain": "          W         X         Y         Z\nA  2.706850  0.628133  0.907969  0.503826\nB  0.651118 -0.319318 -0.848077  0.605965\nC -2.018168  0.740122  0.528813 -0.589001\nD  0.188695 -0.758872 -0.933237  0.955057\nE  0.190794  1.978757  2.605967  0.683509",
      "text/html": "<div>\n<style scoped>\n    .dataframe tbody tr th:only-of-type {\n        vertical-align: middle;\n    }\n\n    .dataframe tbody tr th {\n        vertical-align: top;\n    }\n\n    .dataframe thead th {\n        text-align: right;\n    }\n</style>\n<table border=\"1\" class=\"dataframe\">\n  <thead>\n    <tr style=\"text-align: right;\">\n      <th></th>\n      <th>W</th>\n      <th>X</th>\n      <th>Y</th>\n      <th>Z</th>\n    </tr>\n  </thead>\n  <tbody>\n    <tr>\n      <th>A</th>\n      <td>2.706850</td>\n      <td>0.628133</td>\n      <td>0.907969</td>\n      <td>0.503826</td>\n    </tr>\n    <tr>\n      <th>B</th>\n      <td>0.651118</td>\n      <td>-0.319318</td>\n      <td>-0.848077</td>\n      <td>0.605965</td>\n    </tr>\n    <tr>\n      <th>C</th>\n      <td>-2.018168</td>\n      <td>0.740122</td>\n      <td>0.528813</td>\n      <td>-0.589001</td>\n    </tr>\n    <tr>\n      <th>D</th>\n      <td>0.188695</td>\n      <td>-0.758872</td>\n      <td>-0.933237</td>\n      <td>0.955057</td>\n    </tr>\n    <tr>\n      <th>E</th>\n      <td>0.190794</td>\n      <td>1.978757</td>\n      <td>2.605967</td>\n      <td>0.683509</td>\n    </tr>\n  </tbody>\n</table>\n</div>"
     },
     "execution_count": 43,
     "metadata": {},
     "output_type": "execute_result"
    }
   ],
   "source": [
    "df"
   ],
   "metadata": {
    "collapsed": false,
    "ExecuteTime": {
     "end_time": "2024-03-07T04:16:35.143698100Z",
     "start_time": "2024-03-07T04:16:35.113977700Z"
    }
   },
   "id": "4c82ffd49223c83f"
  },
  {
   "cell_type": "code",
   "execution_count": 44,
   "outputs": [
    {
     "data": {
      "text/plain": "          W         X         Y         Z\nA  2.706850  0.628133  0.907969  0.503826\nB  0.651118 -0.319318 -0.848077  0.605965\nC -2.018168  0.740122  0.528813 -0.589001\nD  0.188695 -0.758872 -0.933237  0.955057",
      "text/html": "<div>\n<style scoped>\n    .dataframe tbody tr th:only-of-type {\n        vertical-align: middle;\n    }\n\n    .dataframe tbody tr th {\n        vertical-align: top;\n    }\n\n    .dataframe thead th {\n        text-align: right;\n    }\n</style>\n<table border=\"1\" class=\"dataframe\">\n  <thead>\n    <tr style=\"text-align: right;\">\n      <th></th>\n      <th>W</th>\n      <th>X</th>\n      <th>Y</th>\n      <th>Z</th>\n    </tr>\n  </thead>\n  <tbody>\n    <tr>\n      <th>A</th>\n      <td>2.706850</td>\n      <td>0.628133</td>\n      <td>0.907969</td>\n      <td>0.503826</td>\n    </tr>\n    <tr>\n      <th>B</th>\n      <td>0.651118</td>\n      <td>-0.319318</td>\n      <td>-0.848077</td>\n      <td>0.605965</td>\n    </tr>\n    <tr>\n      <th>C</th>\n      <td>-2.018168</td>\n      <td>0.740122</td>\n      <td>0.528813</td>\n      <td>-0.589001</td>\n    </tr>\n    <tr>\n      <th>D</th>\n      <td>0.188695</td>\n      <td>-0.758872</td>\n      <td>-0.933237</td>\n      <td>0.955057</td>\n    </tr>\n  </tbody>\n</table>\n</div>"
     },
     "execution_count": 44,
     "metadata": {},
     "output_type": "execute_result"
    }
   ],
   "source": [
    "df.drop('E')"
   ],
   "metadata": {
    "collapsed": false,
    "ExecuteTime": {
     "end_time": "2024-03-07T04:20:02.009951200Z",
     "start_time": "2024-03-07T04:20:01.964376500Z"
    }
   },
   "id": "120d872cec0d3ae4"
  },
  {
   "cell_type": "code",
   "execution_count": 45,
   "outputs": [
    {
     "data": {
      "text/plain": "          W         X         Y         Z\nA  2.706850  0.628133  0.907969  0.503826\nB  0.651118 -0.319318 -0.848077  0.605965\nC -2.018168  0.740122  0.528813 -0.589001\nD  0.188695 -0.758872 -0.933237  0.955057\nE  0.190794  1.978757  2.605967  0.683509",
      "text/html": "<div>\n<style scoped>\n    .dataframe tbody tr th:only-of-type {\n        vertical-align: middle;\n    }\n\n    .dataframe tbody tr th {\n        vertical-align: top;\n    }\n\n    .dataframe thead th {\n        text-align: right;\n    }\n</style>\n<table border=\"1\" class=\"dataframe\">\n  <thead>\n    <tr style=\"text-align: right;\">\n      <th></th>\n      <th>W</th>\n      <th>X</th>\n      <th>Y</th>\n      <th>Z</th>\n    </tr>\n  </thead>\n  <tbody>\n    <tr>\n      <th>A</th>\n      <td>2.706850</td>\n      <td>0.628133</td>\n      <td>0.907969</td>\n      <td>0.503826</td>\n    </tr>\n    <tr>\n      <th>B</th>\n      <td>0.651118</td>\n      <td>-0.319318</td>\n      <td>-0.848077</td>\n      <td>0.605965</td>\n    </tr>\n    <tr>\n      <th>C</th>\n      <td>-2.018168</td>\n      <td>0.740122</td>\n      <td>0.528813</td>\n      <td>-0.589001</td>\n    </tr>\n    <tr>\n      <th>D</th>\n      <td>0.188695</td>\n      <td>-0.758872</td>\n      <td>-0.933237</td>\n      <td>0.955057</td>\n    </tr>\n    <tr>\n      <th>E</th>\n      <td>0.190794</td>\n      <td>1.978757</td>\n      <td>2.605967</td>\n      <td>0.683509</td>\n    </tr>\n  </tbody>\n</table>\n</div>"
     },
     "execution_count": 45,
     "metadata": {},
     "output_type": "execute_result"
    }
   ],
   "source": [
    "df"
   ],
   "metadata": {
    "collapsed": false,
    "ExecuteTime": {
     "end_time": "2024-03-07T04:20:09.493471300Z",
     "start_time": "2024-03-07T04:20:09.445572500Z"
    }
   },
   "id": "b40da956de233d7"
  },
  {
   "cell_type": "code",
   "execution_count": 46,
   "outputs": [
    {
     "data": {
      "text/plain": "W    2.706850\nX    0.628133\nY    0.907969\nZ    0.503826\nName: A, dtype: float64"
     },
     "execution_count": 46,
     "metadata": {},
     "output_type": "execute_result"
    }
   ],
   "source": [
    "df.loc['A'] #Row by Key/Label"
   ],
   "metadata": {
    "collapsed": false,
    "ExecuteTime": {
     "end_time": "2024-03-07T04:22:19.768238200Z",
     "start_time": "2024-03-07T04:22:19.742394700Z"
    }
   },
   "id": "1c3ec0a4072d24c7"
  },
  {
   "cell_type": "code",
   "execution_count": 47,
   "outputs": [
    {
     "data": {
      "text/plain": "W    2.706850\nX    0.628133\nY    0.907969\nZ    0.503826\nName: A, dtype: float64"
     },
     "execution_count": 47,
     "metadata": {},
     "output_type": "execute_result"
    }
   ],
   "source": [
    "df.iloc[0] #Row by index"
   ],
   "metadata": {
    "collapsed": false,
    "ExecuteTime": {
     "end_time": "2024-03-07T04:22:52.891879100Z",
     "start_time": "2024-03-07T04:22:52.864919800Z"
    }
   },
   "id": "17198c9cc1f52ed8"
  },
  {
   "cell_type": "code",
   "execution_count": 49,
   "outputs": [
    {
     "data": {
      "text/plain": "B   -0.848077\nC    0.528813\nD   -0.933237\nE    2.605967\nName: Y, dtype: float64"
     },
     "execution_count": 49,
     "metadata": {},
     "output_type": "execute_result"
    }
   ],
   "source": [
    "df.loc['B':'E', 'Y']"
   ],
   "metadata": {
    "collapsed": false,
    "ExecuteTime": {
     "end_time": "2024-03-07T04:24:41.711739300Z",
     "start_time": "2024-03-07T04:24:41.673323900Z"
    }
   },
   "id": "796449a380d4a4f8"
  },
  {
   "cell_type": "code",
   "execution_count": null,
   "outputs": [],
   "source": [],
   "metadata": {
    "collapsed": false
   },
   "id": "a301b2c8cb5e6023"
  }
 ],
 "metadata": {
  "kernelspec": {
   "display_name": "Python 3",
   "language": "python",
   "name": "python3"
  },
  "language_info": {
   "codemirror_mode": {
    "name": "ipython",
    "version": 2
   },
   "file_extension": ".py",
   "mimetype": "text/x-python",
   "name": "python",
   "nbconvert_exporter": "python",
   "pygments_lexer": "ipython2",
   "version": "2.7.6"
  }
 },
 "nbformat": 4,
 "nbformat_minor": 5
}
