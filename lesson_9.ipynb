{
 "cells": [
  {
   "cell_type": "code",
   "execution_count": 4,
   "id": "initial_id",
   "metadata": {
    "collapsed": true,
    "ExecuteTime": {
     "end_time": "2024-03-15T05:42:43.645699900Z",
     "start_time": "2024-03-15T05:42:43.639711900Z"
    }
   },
   "outputs": [],
   "source": [
    "import pandas as pd"
   ]
  },
  {
   "cell_type": "code",
   "execution_count": 5,
   "outputs": [],
   "source": [
    "import numpy as np\n",
    "import lxml.html as html\n",
    "import html5lib\n",
    "import sqlalchemy\n",
    "from bs4 import BeautifulSoup"
   ],
   "metadata": {
    "collapsed": false,
    "ExecuteTime": {
     "end_time": "2024-03-15T05:42:44.301827800Z",
     "start_time": "2024-03-15T05:42:44.288860900Z"
    }
   },
   "id": "80717b082f603f3"
  },
  {
   "cell_type": "code",
   "execution_count": 6,
   "outputs": [],
   "source": [
    "data = pd.read_html('https://www.fdic.gov/resources/resolutions/bank-failures/failed-bank-list/')"
   ],
   "metadata": {
    "collapsed": false,
    "ExecuteTime": {
     "end_time": "2024-03-15T05:44:51.090544300Z",
     "start_time": "2024-03-15T05:44:48.517850400Z"
    }
   },
   "id": "f26ff68e5c3683ec"
  },
  {
   "cell_type": "code",
   "execution_count": 7,
   "outputs": [
    {
     "data": {
      "text/plain": "list"
     },
     "execution_count": 7,
     "metadata": {},
     "output_type": "execute_result"
    }
   ],
   "source": [
    "type(data)"
   ],
   "metadata": {
    "collapsed": false,
    "ExecuteTime": {
     "end_time": "2024-03-15T05:45:07.473621800Z",
     "start_time": "2024-03-15T05:45:07.465076500Z"
    }
   },
   "id": "b3dd5558b2929b83"
  },
  {
   "cell_type": "code",
   "execution_count": 11,
   "outputs": [],
   "source": [
    "df = pd.DataFrame(data[0])"
   ],
   "metadata": {
    "collapsed": false,
    "ExecuteTime": {
     "end_time": "2024-03-15T05:45:46.884790800Z",
     "start_time": "2024-03-15T05:45:46.862845800Z"
    }
   },
   "id": "b090728564c434ae"
  },
  {
   "cell_type": "code",
   "execution_count": 12,
   "outputs": [
    {
     "data": {
      "text/plain": "                         Bank NameBank       CityCity StateSt  CertCert  \\\n0                        Citizens Bank       Sac City      IA      8758   \n1             Heartland Tri-State Bank        Elkhart      KS     25851   \n2                  First Republic Bank  San Francisco      CA     59017   \n3                       Signature Bank       New York      NY     57053   \n4                  Silicon Valley Bank    Santa Clara      CA     24735   \n..                                 ...            ...     ...       ...   \n563                 Superior Bank, FSB       Hinsdale      IL     32646   \n564                Malta National Bank          Malta      OH      6629   \n565    First Alliance Bank & Trust Co.     Manchester      NH     34264   \n566  National State Bank of Metropolis     Metropolis      IL      3815   \n567                   Bank of Honolulu       Honolulu      HI     21029   \n\n                 Acquiring InstitutionAI Closing DateClosing  FundFund  \n0              Iowa Trust & Savings Bank    November 3, 2023     10545  \n1                 Dream First Bank, N.A.       July 28, 2023     10544  \n2              JPMorgan Chase Bank, N.A.         May 1, 2023     10543  \n3                    Flagstar Bank, N.A.      March 12, 2023     10540  \n4    First–Citizens Bank & Trust Company      March 10, 2023     10539  \n..                                   ...                 ...       ...  \n563                Superior Federal, FSB       July 27, 2001      6004  \n564                    North Valley Bank         May 3, 2001      4648  \n565  Southern New Hampshire Bank & Trust    February 2, 2001      4647  \n566              Banterra Bank of Marion   December 14, 2000      4646  \n567                   Bank of the Orient    October 13, 2000      4645  \n\n[568 rows x 7 columns]",
      "text/html": "<div>\n<style scoped>\n    .dataframe tbody tr th:only-of-type {\n        vertical-align: middle;\n    }\n\n    .dataframe tbody tr th {\n        vertical-align: top;\n    }\n\n    .dataframe thead th {\n        text-align: right;\n    }\n</style>\n<table border=\"1\" class=\"dataframe\">\n  <thead>\n    <tr style=\"text-align: right;\">\n      <th></th>\n      <th>Bank NameBank</th>\n      <th>CityCity</th>\n      <th>StateSt</th>\n      <th>CertCert</th>\n      <th>Acquiring InstitutionAI</th>\n      <th>Closing DateClosing</th>\n      <th>FundFund</th>\n    </tr>\n  </thead>\n  <tbody>\n    <tr>\n      <th>0</th>\n      <td>Citizens Bank</td>\n      <td>Sac City</td>\n      <td>IA</td>\n      <td>8758</td>\n      <td>Iowa Trust &amp; Savings Bank</td>\n      <td>November 3, 2023</td>\n      <td>10545</td>\n    </tr>\n    <tr>\n      <th>1</th>\n      <td>Heartland Tri-State Bank</td>\n      <td>Elkhart</td>\n      <td>KS</td>\n      <td>25851</td>\n      <td>Dream First Bank, N.A.</td>\n      <td>July 28, 2023</td>\n      <td>10544</td>\n    </tr>\n    <tr>\n      <th>2</th>\n      <td>First Republic Bank</td>\n      <td>San Francisco</td>\n      <td>CA</td>\n      <td>59017</td>\n      <td>JPMorgan Chase Bank, N.A.</td>\n      <td>May 1, 2023</td>\n      <td>10543</td>\n    </tr>\n    <tr>\n      <th>3</th>\n      <td>Signature Bank</td>\n      <td>New York</td>\n      <td>NY</td>\n      <td>57053</td>\n      <td>Flagstar Bank, N.A.</td>\n      <td>March 12, 2023</td>\n      <td>10540</td>\n    </tr>\n    <tr>\n      <th>4</th>\n      <td>Silicon Valley Bank</td>\n      <td>Santa Clara</td>\n      <td>CA</td>\n      <td>24735</td>\n      <td>First–Citizens Bank &amp; Trust Company</td>\n      <td>March 10, 2023</td>\n      <td>10539</td>\n    </tr>\n    <tr>\n      <th>...</th>\n      <td>...</td>\n      <td>...</td>\n      <td>...</td>\n      <td>...</td>\n      <td>...</td>\n      <td>...</td>\n      <td>...</td>\n    </tr>\n    <tr>\n      <th>563</th>\n      <td>Superior Bank, FSB</td>\n      <td>Hinsdale</td>\n      <td>IL</td>\n      <td>32646</td>\n      <td>Superior Federal, FSB</td>\n      <td>July 27, 2001</td>\n      <td>6004</td>\n    </tr>\n    <tr>\n      <th>564</th>\n      <td>Malta National Bank</td>\n      <td>Malta</td>\n      <td>OH</td>\n      <td>6629</td>\n      <td>North Valley Bank</td>\n      <td>May 3, 2001</td>\n      <td>4648</td>\n    </tr>\n    <tr>\n      <th>565</th>\n      <td>First Alliance Bank &amp; Trust Co.</td>\n      <td>Manchester</td>\n      <td>NH</td>\n      <td>34264</td>\n      <td>Southern New Hampshire Bank &amp; Trust</td>\n      <td>February 2, 2001</td>\n      <td>4647</td>\n    </tr>\n    <tr>\n      <th>566</th>\n      <td>National State Bank of Metropolis</td>\n      <td>Metropolis</td>\n      <td>IL</td>\n      <td>3815</td>\n      <td>Banterra Bank of Marion</td>\n      <td>December 14, 2000</td>\n      <td>4646</td>\n    </tr>\n    <tr>\n      <th>567</th>\n      <td>Bank of Honolulu</td>\n      <td>Honolulu</td>\n      <td>HI</td>\n      <td>21029</td>\n      <td>Bank of the Orient</td>\n      <td>October 13, 2000</td>\n      <td>4645</td>\n    </tr>\n  </tbody>\n</table>\n<p>568 rows × 7 columns</p>\n</div>"
     },
     "execution_count": 12,
     "metadata": {},
     "output_type": "execute_result"
    }
   ],
   "source": [
    "df"
   ],
   "metadata": {
    "collapsed": false,
    "ExecuteTime": {
     "end_time": "2024-03-15T05:45:47.542462400Z",
     "start_time": "2024-03-15T05:45:47.514163Z"
    }
   },
   "id": "e9325db41a6f7edb"
  },
  {
   "cell_type": "code",
   "execution_count": null,
   "outputs": [],
   "source": [],
   "metadata": {
    "collapsed": false
   },
   "id": "89045037c893e247"
  }
 ],
 "metadata": {
  "kernelspec": {
   "display_name": "Python 3",
   "language": "python",
   "name": "python3"
  },
  "language_info": {
   "codemirror_mode": {
    "name": "ipython",
    "version": 2
   },
   "file_extension": ".py",
   "mimetype": "text/x-python",
   "name": "python",
   "nbconvert_exporter": "python",
   "pygments_lexer": "ipython2",
   "version": "2.7.6"
  }
 },
 "nbformat": 4,
 "nbformat_minor": 5
}
