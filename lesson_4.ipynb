{
 "cells": [
  {
   "cell_type": "code",
   "execution_count": 1,
   "id": "initial_id",
   "metadata": {
    "collapsed": true,
    "ExecuteTime": {
     "end_time": "2024-03-15T04:12:09.643111300Z",
     "start_time": "2024-03-15T04:12:06.292266400Z"
    }
   },
   "outputs": [],
   "source": [
    "import pandas as pd"
   ]
  },
  {
   "cell_type": "code",
   "execution_count": 6,
   "outputs": [],
   "source": [
    "import numpy as np"
   ],
   "metadata": {
    "collapsed": false,
    "ExecuteTime": {
     "end_time": "2024-03-15T04:16:11.550395900Z",
     "start_time": "2024-03-15T04:16:11.521217700Z"
    }
   },
   "id": "f3c22a32f943df6a"
  },
  {
   "cell_type": "code",
   "execution_count": 7,
   "outputs": [],
   "source": [
    "from numpy.random import randn"
   ],
   "metadata": {
    "collapsed": false,
    "ExecuteTime": {
     "end_time": "2024-03-15T04:16:24.138048700Z",
     "start_time": "2024-03-15T04:16:24.119881Z"
    }
   },
   "id": "45a8ff64d204b87c"
  },
  {
   "cell_type": "code",
   "execution_count": 4,
   "outputs": [],
   "source": [
    "# Index Levels\n",
    "outside = 'G1 G1 G1 G2 G2 G2'.split()\n",
    "inside = [1, 2, 3, 1, 2, 3]\n",
    "hier_index = list(zip(outside, inside))\n",
    "hier_index = pd.MultiIndex.from_tuples(hier_index)"
   ],
   "metadata": {
    "collapsed": false,
    "ExecuteTime": {
     "end_time": "2024-03-15T04:13:45.143393800Z",
     "start_time": "2024-03-15T04:13:45.120069Z"
    }
   },
   "id": "b3fc85dc87270f3b"
  },
  {
   "cell_type": "code",
   "execution_count": 5,
   "outputs": [
    {
     "data": {
      "text/plain": "MultiIndex([('G1', 1),\n            ('G1', 2),\n            ('G1', 3),\n            ('G2', 1),\n            ('G2', 2),\n            ('G2', 3)],\n           )"
     },
     "execution_count": 5,
     "metadata": {},
     "output_type": "execute_result"
    }
   ],
   "source": [
    "hier_index"
   ],
   "metadata": {
    "collapsed": false,
    "ExecuteTime": {
     "end_time": "2024-03-15T04:13:48.617474Z",
     "start_time": "2024-03-15T04:13:48.596418Z"
    }
   },
   "id": "5ebe8fb23429139c"
  },
  {
   "cell_type": "code",
   "execution_count": 8,
   "outputs": [],
   "source": [
    "df = pd.DataFrame(randn(6, 2), hier_index, ['A', 'B'])"
   ],
   "metadata": {
    "collapsed": false,
    "ExecuteTime": {
     "end_time": "2024-03-15T04:16:28.064215100Z",
     "start_time": "2024-03-15T04:16:28.044260700Z"
    }
   },
   "id": "a1b97563da83d69d"
  },
  {
   "cell_type": "code",
   "execution_count": 9,
   "outputs": [
    {
     "data": {
      "text/plain": "             A         B\nG1 1 -0.299469  1.001103\n   2  0.204703  1.178737\n   3  0.024271 -1.183832\nG2 1 -0.101599  0.283082\n   2  0.015351  0.735616\n   3 -0.216087  0.285783",
      "text/html": "<div>\n<style scoped>\n    .dataframe tbody tr th:only-of-type {\n        vertical-align: middle;\n    }\n\n    .dataframe tbody tr th {\n        vertical-align: top;\n    }\n\n    .dataframe thead th {\n        text-align: right;\n    }\n</style>\n<table border=\"1\" class=\"dataframe\">\n  <thead>\n    <tr style=\"text-align: right;\">\n      <th></th>\n      <th></th>\n      <th>A</th>\n      <th>B</th>\n    </tr>\n  </thead>\n  <tbody>\n    <tr>\n      <th rowspan=\"3\" valign=\"top\">G1</th>\n      <th>1</th>\n      <td>-0.299469</td>\n      <td>1.001103</td>\n    </tr>\n    <tr>\n      <th>2</th>\n      <td>0.204703</td>\n      <td>1.178737</td>\n    </tr>\n    <tr>\n      <th>3</th>\n      <td>0.024271</td>\n      <td>-1.183832</td>\n    </tr>\n    <tr>\n      <th rowspan=\"3\" valign=\"top\">G2</th>\n      <th>1</th>\n      <td>-0.101599</td>\n      <td>0.283082</td>\n    </tr>\n    <tr>\n      <th>2</th>\n      <td>0.015351</td>\n      <td>0.735616</td>\n    </tr>\n    <tr>\n      <th>3</th>\n      <td>-0.216087</td>\n      <td>0.285783</td>\n    </tr>\n  </tbody>\n</table>\n</div>"
     },
     "execution_count": 9,
     "metadata": {},
     "output_type": "execute_result"
    }
   ],
   "source": [
    "df"
   ],
   "metadata": {
    "collapsed": false,
    "ExecuteTime": {
     "end_time": "2024-03-15T04:16:29.203513900Z",
     "start_time": "2024-03-15T04:16:29.172217600Z"
    }
   },
   "id": "ce7e494ce2b34176"
  },
  {
   "cell_type": "code",
   "execution_count": 10,
   "outputs": [
    {
     "data": {
      "text/plain": "          A         B\n1 -0.299469  1.001103\n2  0.204703  1.178737\n3  0.024271 -1.183832",
      "text/html": "<div>\n<style scoped>\n    .dataframe tbody tr th:only-of-type {\n        vertical-align: middle;\n    }\n\n    .dataframe tbody tr th {\n        vertical-align: top;\n    }\n\n    .dataframe thead th {\n        text-align: right;\n    }\n</style>\n<table border=\"1\" class=\"dataframe\">\n  <thead>\n    <tr style=\"text-align: right;\">\n      <th></th>\n      <th>A</th>\n      <th>B</th>\n    </tr>\n  </thead>\n  <tbody>\n    <tr>\n      <th>1</th>\n      <td>-0.299469</td>\n      <td>1.001103</td>\n    </tr>\n    <tr>\n      <th>2</th>\n      <td>0.204703</td>\n      <td>1.178737</td>\n    </tr>\n    <tr>\n      <th>3</th>\n      <td>0.024271</td>\n      <td>-1.183832</td>\n    </tr>\n  </tbody>\n</table>\n</div>"
     },
     "execution_count": 10,
     "metadata": {},
     "output_type": "execute_result"
    }
   ],
   "source": [
    "df.loc['G1']"
   ],
   "metadata": {
    "collapsed": false,
    "ExecuteTime": {
     "end_time": "2024-03-15T04:16:59.188958800Z",
     "start_time": "2024-03-15T04:16:59.138957500Z"
    }
   },
   "id": "9e5449a7ae6bb817"
  },
  {
   "cell_type": "code",
   "execution_count": 12,
   "outputs": [],
   "source": [
    "df.index.names = ['Group', 'Num']"
   ],
   "metadata": {
    "collapsed": false,
    "ExecuteTime": {
     "end_time": "2024-03-15T04:18:52.969717400Z",
     "start_time": "2024-03-15T04:18:52.938982300Z"
    }
   },
   "id": "eecf4d7dc3ef3e80"
  },
  {
   "cell_type": "code",
   "execution_count": 13,
   "outputs": [
    {
     "data": {
      "text/plain": "                  A         B\nGroup Num                    \nG1    1   -0.299469  1.001103\n      2    0.204703  1.178737\n      3    0.024271 -1.183832\nG2    1   -0.101599  0.283082\n      2    0.015351  0.735616\n      3   -0.216087  0.285783",
      "text/html": "<div>\n<style scoped>\n    .dataframe tbody tr th:only-of-type {\n        vertical-align: middle;\n    }\n\n    .dataframe tbody tr th {\n        vertical-align: top;\n    }\n\n    .dataframe thead th {\n        text-align: right;\n    }\n</style>\n<table border=\"1\" class=\"dataframe\">\n  <thead>\n    <tr style=\"text-align: right;\">\n      <th></th>\n      <th></th>\n      <th>A</th>\n      <th>B</th>\n    </tr>\n    <tr>\n      <th>Group</th>\n      <th>Num</th>\n      <th></th>\n      <th></th>\n    </tr>\n  </thead>\n  <tbody>\n    <tr>\n      <th rowspan=\"3\" valign=\"top\">G1</th>\n      <th>1</th>\n      <td>-0.299469</td>\n      <td>1.001103</td>\n    </tr>\n    <tr>\n      <th>2</th>\n      <td>0.204703</td>\n      <td>1.178737</td>\n    </tr>\n    <tr>\n      <th>3</th>\n      <td>0.024271</td>\n      <td>-1.183832</td>\n    </tr>\n    <tr>\n      <th rowspan=\"3\" valign=\"top\">G2</th>\n      <th>1</th>\n      <td>-0.101599</td>\n      <td>0.283082</td>\n    </tr>\n    <tr>\n      <th>2</th>\n      <td>0.015351</td>\n      <td>0.735616</td>\n    </tr>\n    <tr>\n      <th>3</th>\n      <td>-0.216087</td>\n      <td>0.285783</td>\n    </tr>\n  </tbody>\n</table>\n</div>"
     },
     "execution_count": 13,
     "metadata": {},
     "output_type": "execute_result"
    }
   ],
   "source": [
    "df"
   ],
   "metadata": {
    "collapsed": false,
    "ExecuteTime": {
     "end_time": "2024-03-15T04:18:55.219206800Z",
     "start_time": "2024-03-15T04:18:55.184058100Z"
    }
   },
   "id": "fc9a069855b1b979"
  },
  {
   "cell_type": "code",
   "execution_count": 18,
   "outputs": [
    {
     "data": {
      "text/plain": "0.7356164511177411"
     },
     "execution_count": 18,
     "metadata": {},
     "output_type": "execute_result"
    }
   ],
   "source": [
    "df.loc['G2'].loc[2]['B']  # Rough Selection"
   ],
   "metadata": {
    "collapsed": false,
    "ExecuteTime": {
     "end_time": "2024-03-15T04:21:19.971895600Z",
     "start_time": "2024-03-15T04:21:19.933007Z"
    }
   },
   "id": "6b311dca987561fa"
  },
  {
   "cell_type": "code",
   "execution_count": 22,
   "outputs": [
    {
     "data": {
      "text/plain": "              A         B\nGroup                    \nG1    -0.299469  1.001103\nG2    -0.101599  0.283082",
      "text/html": "<div>\n<style scoped>\n    .dataframe tbody tr th:only-of-type {\n        vertical-align: middle;\n    }\n\n    .dataframe tbody tr th {\n        vertical-align: top;\n    }\n\n    .dataframe thead th {\n        text-align: right;\n    }\n</style>\n<table border=\"1\" class=\"dataframe\">\n  <thead>\n    <tr style=\"text-align: right;\">\n      <th></th>\n      <th>A</th>\n      <th>B</th>\n    </tr>\n    <tr>\n      <th>Group</th>\n      <th></th>\n      <th></th>\n    </tr>\n  </thead>\n  <tbody>\n    <tr>\n      <th>G1</th>\n      <td>-0.299469</td>\n      <td>1.001103</td>\n    </tr>\n    <tr>\n      <th>G2</th>\n      <td>-0.101599</td>\n      <td>0.283082</td>\n    </tr>\n  </tbody>\n</table>\n</div>"
     },
     "execution_count": 22,
     "metadata": {},
     "output_type": "execute_result"
    }
   ],
   "source": [
    "df.xs(1, level='Num')"
   ],
   "metadata": {
    "collapsed": false,
    "ExecuteTime": {
     "end_time": "2024-03-15T04:22:40.561431700Z",
     "start_time": "2024-03-15T04:22:40.542255Z"
    }
   },
   "id": "2711555b2bf20074"
  },
  {
   "cell_type": "code",
   "execution_count": null,
   "outputs": [],
   "source": [],
   "metadata": {
    "collapsed": false
   },
   "id": "524d415fdd3fd331"
  }
 ],
 "metadata": {
  "kernelspec": {
   "display_name": "Python 3",
   "language": "python",
   "name": "python3"
  },
  "language_info": {
   "codemirror_mode": {
    "name": "ipython",
    "version": 2
   },
   "file_extension": ".py",
   "mimetype": "text/x-python",
   "name": "python",
   "nbconvert_exporter": "python",
   "pygments_lexer": "ipython2",
   "version": "2.7.6"
  }
 },
 "nbformat": 4,
 "nbformat_minor": 5
}
